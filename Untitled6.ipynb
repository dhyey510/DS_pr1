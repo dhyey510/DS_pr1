{
  "nbformat": 4,
  "nbformat_minor": 0,
  "metadata": {
    "colab": {
      "name": "Untitled6.ipynb",
      "provenance": [],
      "collapsed_sections": [],
      "authorship_tag": "ABX9TyOW9wN+YSlxQLLDggJxqpZw",
      "include_colab_link": true
    },
    "kernelspec": {
      "name": "python3",
      "display_name": "Python 3"
    },
    "language_info": {
      "name": "python"
    }
  },
  "cells": [
    {
      "cell_type": "markdown",
      "metadata": {
        "id": "view-in-github",
        "colab_type": "text"
      },
      "source": [
        "<a href=\"https://colab.research.google.com/github/dhyey510/DS_pr1/blob/main/Untitled6.ipynb\" target=\"_parent\"><img src=\"https://colab.research.google.com/assets/colab-badge.svg\" alt=\"Open In Colab\"/></a>"
      ]
    },
    {
      "cell_type": "code",
      "metadata": {
        "colab": {
          "base_uri": "https://localhost:8080/"
        },
        "id": "0vc6MGfMyE-1",
        "outputId": "840ac033-8308-43ce-ba47-20beecf953cf"
      },
      "source": [
        "pip install selenium"
      ],
      "execution_count": 3,
      "outputs": [
        {
          "output_type": "stream",
          "text": [
            "Requirement already satisfied: selenium in /usr/local/lib/python3.7/dist-packages (3.141.0)\n",
            "Requirement already satisfied: urllib3 in /usr/local/lib/python3.7/dist-packages (from selenium) (1.24.3)\n"
          ],
          "name": "stdout"
        }
      ]
    },
    {
      "cell_type": "code",
      "metadata": {
        "colab": {
          "base_uri": "https://localhost:8080/"
        },
        "id": "SihgeMV6yZY2",
        "outputId": "f40a5ca0-b942-4a7f-9b6c-e25d7a137c82"
      },
      "source": [
        "!apt install chromium-chromedriver"
      ],
      "execution_count": 7,
      "outputs": [
        {
          "output_type": "stream",
          "text": [
            "Reading package lists... Done\n",
            "Building dependency tree       \n",
            "Reading state information... Done\n",
            "chromium-chromedriver is already the newest version (91.0.4472.101-0ubuntu0.18.04.1).\n",
            "0 upgraded, 0 newly installed, 0 to remove and 40 not upgraded.\n"
          ],
          "name": "stdout"
        }
      ]
    },
    {
      "cell_type": "code",
      "metadata": {
        "colab": {
          "base_uri": "https://localhost:8080/"
        },
        "id": "X3z1NZGbykHN",
        "outputId": "bee5f6ef-daf0-4f97-98e5-c249b41c6e3b"
      },
      "source": [
        "pip install beautifulsoup4"
      ],
      "execution_count": 5,
      "outputs": [
        {
          "output_type": "stream",
          "text": [
            "Requirement already satisfied: beautifulsoup4 in /usr/local/lib/python3.7/dist-packages (4.6.3)\n"
          ],
          "name": "stdout"
        }
      ]
    },
    {
      "cell_type": "code",
      "metadata": {
        "id": "hDhVgqOTyrEr"
      },
      "source": [
        "from selenium import webdriver\n",
        "from bs4 import BeautifulSoup\n",
        "import pandas as pd\n",
        "from selenium import webdriver"
      ],
      "execution_count": 8,
      "outputs": []
    },
    {
      "cell_type": "code",
      "metadata": {
        "colab": {
          "base_uri": "https://localhost:8080/"
        },
        "id": "spHnEcZgzee9",
        "outputId": "a8e7ad99-f3d7-475f-9292-4d8dc65cd7a2"
      },
      "source": [
        "from selenium import webdriver\n",
        "chrome_options = webdriver.ChromeOptions()\n",
        "chrome_options.add_argument('--headless')\n",
        "chrome_options.add_argument('--no-sandbox')\n",
        "chrome_options.add_argument('--disable-dev-shm-usage')\n",
        "wd = webdriver.Chrome('chromedriver',chrome_options=chrome_options)\n",
        "driver =webdriver.Chrome('chromedriver',chrome_options=chrome_options)"
      ],
      "execution_count": 11,
      "outputs": [
        {
          "output_type": "stream",
          "text": [
            "/usr/local/lib/python3.7/dist-packages/ipykernel_launcher.py:6: DeprecationWarning: use options instead of chrome_options\n",
            "  \n",
            "/usr/local/lib/python3.7/dist-packages/ipykernel_launcher.py:7: DeprecationWarning: use options instead of chrome_options\n",
            "  import sys\n"
          ],
          "name": "stderr"
        }
      ]
    },
    {
      "cell_type": "code",
      "metadata": {
        "id": "nNef0PA0zuSP"
      },
      "source": [
        "driver.get(\"https://www.flipkart.com/mobile-accessories/memory-cards-readers/memory-cards/pr?sid=tyy,4mr,zzf,7y7&otracker=nmenu_sub_Electronics_0_Memory%20Cards\")"
      ],
      "execution_count": 22,
      "outputs": []
    },
    {
      "cell_type": "code",
      "metadata": {
        "id": "7uIw-SO6z9wN"
      },
      "source": [
        "content = driver.page_source\n",
        "soup = BeautifulSoup(content)"
      ],
      "execution_count": 23,
      "outputs": []
    },
    {
      "cell_type": "code",
      "metadata": {
        "id": "P0FOkz1Y0QUC"
      },
      "source": [
        "products=[] #List to store the name of the product\n",
        "prices=[] #List to store price of the product\n",
        "features=[] #List to store rating of the product"
      ],
      "execution_count": 24,
      "outputs": []
    },
    {
      "cell_type": "code",
      "metadata": {
        "id": "btCMjy1L0cPV"
      },
      "source": [
        "for a in soup.findAll('div',attrs={'class':'_4ddWXP'}):\n",
        "    name=a.find('a',attrs={'class':'s1Q9rs'})\n",
        "    price=a.find('div',attrs={'class':'_30jeq3'})\n",
        "    products.append(name.text)\n",
        "    prices.append(price.text)"
      ],
      "execution_count": 25,
      "outputs": []
    },
    {
      "cell_type": "code",
      "metadata": {
        "colab": {
          "base_uri": "https://localhost:8080/"
        },
        "id": "jShJpWky0ktU",
        "outputId": "1974571c-8783-4e9b-a307-87d5175a0927"
      },
      "source": [
        "df = pd.DataFrame({'Product Name':products,'Price':prices})\n",
        "print(df.head(10))"
      ],
      "execution_count": 26,
      "outputs": [
        {
          "output_type": "stream",
          "text": [
            "                                        Product Name   Price\n",
            "0  SAMSUNG EVO Plus 64 GB SD Card Class 10 100 MB...    ₹649\n",
            "1  SAMSUNG EVO Plus 32 GB SD Card Class 10 95 MB/...    ₹429\n",
            "2  SanDisk Ultra 32 GB MicroSDHC Class 10 120 Mbp...    ₹429\n",
            "3  SanDisk Ultra 64 MicroSDXC Class 10 120 Mbps  ...    ₹649\n",
            "4  HP U1 32 GB MicroSDHC Class 10 100 MB/s  Memor...    ₹499\n",
            "5  SAMSUNG EVO Plus 128 GB SD Card Class 10 100 M...  ₹1,299\n",
            "6  SanDisk 2 32 GB MicroSDHC Class 4 4 MB/s  Memo...    ₹446\n",
            "7  SanDisk Ultra 128 MicroSDXC Class 10 120 Mbps ...  ₹1,199\n",
            "8  XCCESS 8 GB SD Card Class 10 40 MB/s  Memory Card    ₹225\n",
            "9  SanDisk Ultra 64 GB MicroSDHC Class 10 98 MB/s...    ₹825\n"
          ],
          "name": "stdout"
        }
      ]
    },
    {
      "cell_type": "code",
      "metadata": {
        "id": "qJkO2Wl32g1P"
      },
      "source": [
        "df.to_csv('products.csv', index=False, encoding='utf-8')"
      ],
      "execution_count": 27,
      "outputs": []
    },
    {
      "cell_type": "markdown",
      "metadata": {
        "id": "Y8fpHWB_y3tP"
      },
      "source": [
        ""
      ]
    }
  ]
}